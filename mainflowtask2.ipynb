{
  "nbformat": 4,
  "nbformat_minor": 0,
  "metadata": {
    "colab": {
      "private_outputs": true,
      "provenance": []
    },
    "kernelspec": {
      "name": "python3",
      "display_name": "Python 3"
    },
    "language_info": {
      "name": "python"
    }
  },
  "cells": [
    {
      "cell_type": "code",
      "execution_count": null,
      "metadata": {
        "id": "3qux8ErjORIo"
      },
      "outputs": [],
      "source": [
        "import pandas as pd\n",
        "\n",
        "\n"
      ]
    },
    {
      "cell_type": "code",
      "source": [
        "\n",
        "df = pd.read_csv(\"/content/01.Data Cleaning and Preprocessing (1).csv\")\n",
        "\n",
        "\n"
      ],
      "metadata": {
        "id": "Xj04Y_D5PiFb"
      },
      "execution_count": null,
      "outputs": []
    },
    {
      "cell_type": "code",
      "source": [
        "\n",
        "# Display the first few rows of the DataFrame\n",
        "print(\"First few rows of the DataFrame:\")\n",
        "print(df.head())\n",
        "\n"
      ],
      "metadata": {
        "id": "48bPGvDDPlL_"
      },
      "execution_count": null,
      "outputs": []
    },
    {
      "cell_type": "code",
      "source": [
        "# Filtering data based on conditions\n",
        "filtered_data = df[df['Y-Kappa'] > 20]  # Filtering data where 'Y-Kappa' column value is greater than 20\n",
        "print(\"\\nFiltered data based on condition:\")\n",
        "print(filtered_data.head())\n",
        "\n"
      ],
      "metadata": {
        "id": "3MBEtOeTPr-l"
      },
      "execution_count": null,
      "outputs": []
    },
    {
      "cell_type": "code",
      "source": [
        "# Handling missing values\n",
        "# Drop rows with missing values\n",
        "df.dropna(inplace=True)  # Drop rows with missing values"
      ],
      "metadata": {
        "id": "cl3nctBmPy48"
      },
      "execution_count": null,
      "outputs": []
    },
    {
      "cell_type": "code",
      "source": [
        "# Calculate summary statistics\n",
        "summary_stats = df.describe()  # Summary statistics like count, mean, std, min, 25%, 50%, 75%, max\n",
        "print(\"\\nSummary statistics:\")\n",
        "print(summary_stats)"
      ],
      "metadata": {
        "id": "grd61YQYP1bM"
      },
      "execution_count": null,
      "outputs": []
    }
  ]
}