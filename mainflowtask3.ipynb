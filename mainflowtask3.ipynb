{
  "nbformat": 4,
  "nbformat_minor": 0,
  "metadata": {
    "colab": {
      "private_outputs": true,
      "provenance": []
    },
    "kernelspec": {
      "name": "python3",
      "display_name": "Python 3"
    },
    "language_info": {
      "name": "python"
    }
  },
  "cells": [
    {
      "cell_type": "code",
      "execution_count": null,
      "metadata": {
        "id": "iA7PXfMniyPI"
      },
      "outputs": [],
      "source": [
        "import pandas as pd\n"
      ]
    },
    {
      "cell_type": "code",
      "source": [
        "import matplotlib.pyplot as plt\n",
        "import numpy as np"
      ],
      "metadata": {
        "id": "on8D8hMfi6_U"
      },
      "execution_count": null,
      "outputs": []
    },
    {
      "cell_type": "code",
      "source": [
        "# Generate sample data for 30 cities\n",
        "np.random.seed(0)\n",
        "cities = ['City{}'.format(i) for i in range(1, 31)]\n",
        "population = np.random.randint(500000, 5000000, size=30)\n",
        "area = np.random.uniform(100, 1000, size=30)\n"
      ],
      "metadata": {
        "id": "bTj_uEMdi2-z"
      },
      "execution_count": null,
      "outputs": []
    },
    {
      "cell_type": "code",
      "source": [
        "# Create a DataFrame\n",
        "data = {'City': cities, 'Population': population, 'Area (sq mi)': area}\n",
        "df = pd.DataFrame(data)\n"
      ],
      "metadata": {
        "id": "_dkw0v7ci0ZK"
      },
      "execution_count": null,
      "outputs": []
    },
    {
      "cell_type": "code",
      "source": [
        "# Create a bar chart for population\n",
        "plt.figure(figsize=(12, 6))\n",
        "plt.bar(df['City'], df['Population'], color='skyblue')\n",
        "plt.xlabel('City')\n",
        "plt.ylabel('Population')\n",
        "plt.title('Population by City')\n",
        "plt.xticks(rotation=45)\n",
        "plt.tight_layout()\n",
        "plt.show()\n",
        "\n",
        "\n"
      ],
      "metadata": {
        "id": "LouENLSbjGPE"
      },
      "execution_count": null,
      "outputs": []
    },
    {
      "cell_type": "code",
      "source": [
        "# Create a line chart for area\n",
        "plt.figure(figsize=(12, 6))\n",
        "plt.plot(df['City'], df['Area (sq mi)'], marker='o', color='green')\n",
        "plt.xlabel('City')\n",
        "plt.ylabel('Area (sq mi)')\n",
        "plt.title('Area by City')\n",
        "plt.xticks(rotation=45)\n",
        "plt.tight_layout()\n",
        "plt.show()"
      ],
      "metadata": {
        "id": "NBTblOKojLEJ"
      },
      "execution_count": null,
      "outputs": []
    }
  ]
}